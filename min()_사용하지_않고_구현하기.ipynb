{
  "nbformat": 4,
  "nbformat_minor": 0,
  "metadata": {
    "colab": {
      "name": "min()_사용하지_않고_구현하기",
      "provenance": [],
      "authorship_tag": "ABX9TyMexUw8NBAazOGMejEkZIqv",
      "include_colab_link": true
    },
    "kernelspec": {
      "name": "python3",
      "display_name": "Python 3"
    },
    "language_info": {
      "name": "python"
    }
  },
  "cells": [
    {
      "cell_type": "markdown",
      "metadata": {
        "id": "view-in-github",
        "colab_type": "text"
      },
      "source": [
        "<a href=\"https://colab.research.google.com/github/cyamize/code_training/blob/main/min()_%EC%82%AC%EC%9A%A9%ED%95%98%EC%A7%80_%EC%95%8A%EA%B3%A0_%EA%B5%AC%ED%98%84%ED%95%98%EA%B8%B0.ipynb\" target=\"_parent\"><img src=\"https://colab.research.google.com/assets/colab-badge.svg\" alt=\"Open In Colab\"/></a>"
      ]
    },
    {
      "cell_type": "markdown",
      "metadata": {
        "id": "uP2IId73_0SV"
      },
      "source": [
        "min()을 사용하지 않고 min() 구현하기(for 문 사용)"
      ]
    },
    {
      "cell_type": "code",
      "metadata": {
        "id": "YSE2R04_9V-q"
      },
      "source": [
        "data=[7, 7, 2, 4, 6]\n",
        "min_v = data[0]\n",
        "for i in data:\n",
        "    if i < min_v:\n",
        "        min_v = i\n",
        "    else:\n",
        "        continue\n",
        "min_v"
      ],
      "execution_count": null,
      "outputs": []
    }
  ]
}