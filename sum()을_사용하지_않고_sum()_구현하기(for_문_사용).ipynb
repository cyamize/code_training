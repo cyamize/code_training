{
  "nbformat": 4,
  "nbformat_minor": 0,
  "metadata": {
    "colab": {
      "name": "sum()을 사용하지 않고 sum() 구현하기(for 문 사용)",
      "provenance": [],
      "authorship_tag": "ABX9TyMF9FgGWE3rpkPy1L0jGogt",
      "include_colab_link": true
    },
    "kernelspec": {
      "name": "python3",
      "display_name": "Python 3"
    },
    "language_info": {
      "name": "python"
    }
  },
  "cells": [
    {
      "cell_type": "markdown",
      "metadata": {
        "id": "view-in-github",
        "colab_type": "text"
      },
      "source": [
        "<a href=\"https://colab.research.google.com/github/cyamize/code_training/blob/main/sum()%EC%9D%84_%EC%82%AC%EC%9A%A9%ED%95%98%EC%A7%80_%EC%95%8A%EA%B3%A0_sum()_%EA%B5%AC%ED%98%84%ED%95%98%EA%B8%B0(for_%EB%AC%B8_%EC%82%AC%EC%9A%A9).ipynb\" target=\"_parent\"><img src=\"https://colab.research.google.com/assets/colab-badge.svg\" alt=\"Open In Colab\"/></a>"
      ]
    },
    {
      "cell_type": "code",
      "metadata": {
        "colab": {
          "base_uri": "https://localhost:8080/"
        },
        "id": "jcQ1Yy1HBJ80",
        "outputId": "848282eb-0ce2-4443-bd4b-c65e90568f3c"
      },
      "source": [
        "data=[2, 7, 2, 4, 6]\n",
        "sum_a=0\n",
        "for i in data:\n",
        "    sum_a = sum_a+i\n",
        "sum_a"
      ],
      "execution_count": 1,
      "outputs": [
        {
          "output_type": "execute_result",
          "data": {
            "text/plain": [
              "21"
            ]
          },
          "metadata": {
            "tags": []
          },
          "execution_count": 1
        }
      ]
    },
    {
      "cell_type": "code",
      "metadata": {
        "id": "a6xv3NqxBPKk"
      },
      "source": [
        ""
      ],
      "execution_count": null,
      "outputs": []
    }
  ]
}