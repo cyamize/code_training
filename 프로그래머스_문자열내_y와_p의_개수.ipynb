{
  "nbformat": 4,
  "nbformat_minor": 0,
  "metadata": {
    "colab": {
      "name": "프로그래머스_문자열내_y와_p의_개수",
      "provenance": [],
      "authorship_tag": "ABX9TyOAO34HVir3pp+zmDEE0BkO",
      "include_colab_link": true
    },
    "kernelspec": {
      "name": "python3",
      "display_name": "Python 3"
    },
    "language_info": {
      "name": "python"
    }
  },
  "cells": [
    {
      "cell_type": "markdown",
      "metadata": {
        "id": "view-in-github",
        "colab_type": "text"
      },
      "source": [
        "<a href=\"https://colab.research.google.com/github/cyamize/code_training/blob/main/%ED%94%84%EB%A1%9C%EA%B7%B8%EB%9E%98%EB%A8%B8%EC%8A%A4_%EB%AC%B8%EC%9E%90%EC%97%B4%EB%82%B4_y%EC%99%80_p%EC%9D%98_%EA%B0%9C%EC%88%98.ipynb\" target=\"_parent\"><img src=\"https://colab.research.google.com/assets/colab-badge.svg\" alt=\"Open In Colab\"/></a>"
      ]
    },
    {
      "cell_type": "markdown",
      "metadata": {
        "id": "MQSO1iUpvmAM"
      },
      "source": [
        "프로그래머스 - 문자열내 y와 p의 개수"
      ]
    },
    {
      "cell_type": "code",
      "metadata": {
        "id": "jlHqEqUjvkW7"
      },
      "source": [
        "def solution(s):\n",
        "\n",
        "\n",
        "    if s.lower().count('p') == s.lower().count('y'):\n",
        "        return True\n",
        "    else:\n",
        "        return False"
      ],
      "execution_count": null,
      "outputs": []
    }
  ]
}