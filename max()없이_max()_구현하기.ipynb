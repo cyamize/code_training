{
  "nbformat": 4,
  "nbformat_minor": 0,
  "metadata": {
    "colab": {
      "name": "max()없이_max()_구현하기",
      "provenance": [],
      "authorship_tag": "ABX9TyN7UStkWhs2Br6Mnqjkb4yI",
      "include_colab_link": true
    },
    "kernelspec": {
      "name": "python3",
      "display_name": "Python 3"
    },
    "language_info": {
      "name": "python"
    }
  },
  "cells": [
    {
      "cell_type": "markdown",
      "metadata": {
        "id": "view-in-github",
        "colab_type": "text"
      },
      "source": [
        "<a href=\"https://colab.research.google.com/github/cyamize/code_training/blob/main/max()%EC%97%86%EC%9D%B4_max()_%EA%B5%AC%ED%98%84%ED%95%98%EA%B8%B0.ipynb\" target=\"_parent\"><img src=\"https://colab.research.google.com/assets/colab-badge.svg\" alt=\"Open In Colab\"/></a>"
      ]
    },
    {
      "cell_type": "code",
      "metadata": {
        "id": "O0_5NKlFS2y2"
      },
      "source": [
        "data=[10, 7, 2, 4, 6]\n",
        "max_v = 0 \n",
        "for i in data:\n",
        "  if i > max_v:\n",
        "    max_v = i\n",
        "  else:\n",
        "    continue\n",
        "print(max_v)"
      ],
      "execution_count": null,
      "outputs": []
    }
  ]
}